{
 "cells": [
  {
   "cell_type": "code",
   "execution_count": 2,
   "metadata": {},
   "outputs": [
    {
     "name": "stdout",
     "output_type": "stream",
     "text": [
      "95\n",
      "A\n"
     ]
    }
   ],
   "source": [
    "score = int(input())\n",
    "\n",
    "if score >= 90:\n",
    "    print(\"A\")\n",
    "elif score >= 80:\n",
    "    print(\"B\")\n",
    "elif score >= 70:\n",
    "    print(\"C\")\n",
    "else: \n",
    "    print(\"F\")"
   ]
  },
  {
   "cell_type": "code",
   "execution_count": 10,
   "metadata": {},
   "outputs": [
    {
     "name": "stdout",
     "output_type": "stream",
     "text": [
      "1001\n"
     ]
    }
   ],
   "source": [
    "three = 0\n",
    "\n",
    "while three <= 1000:\n",
    "    three= three + 1\n",
    "    if three % 3 == 0 : continue\n",
    "    sum=0+three\n",
    "    \n",
    "print(sum)"
   ]
  },
  {
   "cell_type": "code",
   "execution_count": 38,
   "metadata": {},
   "outputs": [
    {
     "name": "stdout",
     "output_type": "stream",
     "text": [
      "79.0\n",
      "79.0\n"
     ]
    }
   ],
   "source": [
    "list = [70, 60, 55, 75, 90, 95, 80, 80, 85, 100]\n",
    "\n",
    "sum = 0\n",
    "avr = 0\n",
    "\n",
    "for i in list:\n",
    "    sum += i\n",
    "    \n",
    "avr = sum/10\n",
    "print(avr)\n",
    "\n",
    "list = [70, 60, 55, 75, 90, 95, 80, 80, 85, 100]\n",
    "\n",
    "sum = 0\n",
    "avr = 0\n",
    "\n",
    "for i in range(10):\n",
    "    sum += list[i]\n",
    "    \n",
    "avr = sum/10\n",
    "print(avr)"
   ]
  },
  {
   "cell_type": "code",
   "execution_count": 94,
   "metadata": {},
   "outputs": [],
   "source": [
    "def add_many(*args):\n",
    "    result = 0\n",
    "    for i in args:\n",
    "        result = result + i\n",
    "    return result"
   ]
  },
  {
   "cell_type": "code",
   "execution_count": 93,
   "metadata": {},
   "outputs": [],
   "source": [
    "def say_myself(name, old, man=True):\n",
    "    print(\"나의 이름은 %s입니다.\" % name)\n",
    "    print(\"나이는 %d살입니다.\" % old)\n",
    "    if man:\n",
    "        print(\"남자입니다.\")\n",
    "    else:\n",
    "        print(\"여자입니다.\")"
   ]
  },
  {
   "cell_type": "code",
   "execution_count": 2,
   "metadata": {},
   "outputs": [
    {
     "name": "stdout",
     "output_type": "stream",
     "text": [
      "79.0\n"
     ]
    }
   ],
   "source": [
    "f = open(\"score.txt\", 'w')\n",
    "list = [70, 60, 55, 75, 90, 95, 80, 80, 85, 100]\n",
    "\n",
    "for i in list:\n",
    "    f.write(str(i)+'\\n')\n",
    "    \n",
    "f.close()\n",
    "\n",
    "f = open(\"score.txt\", 'r')\n",
    "sum = 0\n",
    "avr = 0\n",
    "\n",
    "while True:\n",
    "    line = f.readline()\n",
    "    if not line: break\n",
    "    \n",
    "    sum+=int(line)\n",
    "\n",
    "avr = sum/10\n",
    "\n",
    "print(avr)\n",
    "\n",
    "f.close()"
   ]
  },
  {
   "cell_type": "code",
   "execution_count": null,
   "metadata": {},
   "outputs": [],
   "source": []
  }
 ],
 "metadata": {
  "kernelspec": {
   "display_name": "Python 3",
   "language": "python",
   "name": "python3"
  },
  "language_info": {
   "codemirror_mode": {
    "name": "ipython",
    "version": 3
   },
   "file_extension": ".py",
   "mimetype": "text/x-python",
   "name": "python",
   "nbconvert_exporter": "python",
   "pygments_lexer": "ipython3",
   "version": "3.7.6"
  }
 },
 "nbformat": 4,
 "nbformat_minor": 4
}
